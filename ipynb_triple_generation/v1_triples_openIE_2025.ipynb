{
  "nbformat": 4,
  "nbformat_minor": 0,
  "metadata": {
    "colab": {
      "provenance": []
    },
    "kernelspec": {
      "name": "python3",
      "display_name": "Python 3"
    },
    "language_info": {
      "name": "python"
    }
  },
  "cells": [
    {
      "cell_type": "code",
      "source": [
        "# In Colab cell ─ install Java and the PyOpenIE wrapper\n",
        "# !apt-get update -qq && apt-get install -qq -y openjdk-11-jdk\n",
        "# !pip install pyopenie\n"
      ],
      "metadata": {
        "id": "ZDzn0A5R_Mma"
      },
      "execution_count": null,
      "outputs": []
    },
    {
      "cell_type": "code",
      "source": [
        "!pip install stanford-openie\n"
      ],
      "metadata": {
        "id": "S44R9eN4AY8R"
      },
      "execution_count": null,
      "outputs": []
    },
    {
      "cell_type": "code",
      "source": [
        "# Clean up any old residue\n",
        "!rm -rf stanford-corenlp-4.5.3*\n",
        "\n",
        "# Download & unzip so that jars live in stanford-corenlp-4.5.3/\n",
        "!wget -q https://nlp.stanford.edu/software/stanford-corenlp-4.5.3.zip\n",
        "!unzip -q stanford-corenlp-4.5.3.zip\n"
      ],
      "metadata": {
        "id": "tyJ_5s9dIshV"
      },
      "execution_count": null,
      "outputs": []
    },
    {
      "cell_type": "code",
      "source": [
        "# Restart from a clean slate: kill any old server, re-unzip, then:\n",
        "!nohup java -Xmx4G \\\n",
        "  -cp \"stanford-corenlp-4.5.3/*\" \\\n",
        "  edu.stanford.nlp.pipeline.StanfordCoreNLPServer \\\n",
        "    -port 9001 \\\n",
        "    -timeout 150000 \\\n",
        "    -threads 4 \\\n",
        "    -preload tokenize,ssplit,pos,lemma,depparse,natlog,openie \\\n",
        "    -annotators tokenize,ssplit,pos,lemma,depparse,natlog,openie \\\n",
        "  > corenlp.log 2>&1 &"
      ],
      "metadata": {
        "id": "FnD-DBgNOT_b"
      },
      "execution_count": null,
      "outputs": []
    },
    {
      "cell_type": "code",
      "source": [
        "\n",
        "paragraphs = [\n",
        "    \"Software Engineering Code of Ethics and Professional Practice (Short Version)\",\n",
        "    \"PREAMBLE\",\n",
        "    \"The short version of the code summarizes aspirations at a high level of the abstraction; the clauses that are included in the full version give examples and details of how these aspirations change the way we act as software engineering professionals. Without the aspirations, the details can become legalistic and tedious; without the details, the aspirations can become high sounding but empty; together, the aspirations and the details form a cohesive code.\",\n",
        "    \"Software engineers shall commit themselves to making the analysis, specification, design, development, testing and maintenance of software a beneficial and respected profession. In accordance with their commitment to the health, safety and welfare of the public, software engineers shall adhere to the following Eight Principles:\",\n",
        "    \"1. PUBLIC – Software engineers shall act consistently with the public interest.\",\n",
        "    \"2. CLIENT AND EMPLOYER – Software engineers shall act in a manner that is in the best interests of their client and employer consistent with the public interest.\",\n",
        "    \"3. PRODUCT – Software engineers shall ensure that their products and related modifications meet the highest professional standards possible.\",\n",
        "    \"4. JUDGMENT – Software engineers shall maintain integrity and independence in their professional judgment.\",\n",
        "    \"5. MANAGEMENT – Software engineering managers and leaders shall subscribe to and promote an ethical approach to the management of software development and maintenance.\",\n",
        "    \"6. PROFESSION – Software engineers shall advance the integrity and reputation of the profession consistent with the public interest.\",\n",
        "    \"7. COLLEAGUES – Software engineers shall be fair to and supportive of their colleagues.\",\n",
        "    \"8. SELF – Software engineers shall participate in lifelong learning regarding the practice of their profession and shall promote an ethical approach to the practice of the profession.\"\n",
        "]"
      ],
      "metadata": {
        "id": "xo_Evan7g4xy"
      },
      "execution_count": null,
      "outputs": []
    },
    {
      "cell_type": "code",
      "source": [
        "import requests\n",
        "import json\n",
        "\n",
        "\n",
        "paragraphs = [\n",
        "    \"The short version of the code summarizes aspirations at a high level of the abstraction;\"\n",
        "]\n",
        "\n",
        "# Make sure your CoreNLPServer is live on localhost:9000 (with openie in its annotators)\n",
        "def openie_triples(text: str):\n",
        "    props = {\n",
        "        \"annotators\": \"tokenize,ssplit,pos,lemma,depparse,natlog,openie\",\n",
        "        \"outputFormat\": \"json\",\n",
        "        \"timeout\": 150000\n",
        "    }\n",
        "    r = requests.post(\n",
        "        \"http://localhost:9001\",\n",
        "        params={\"properties\": json.dumps(props)},\n",
        "        data=text.encode(\"utf-8\"),\n",
        "        timeout=180\n",
        "    )\n",
        "    r.raise_for_status()\n",
        "    data = r.json()\n",
        "\n",
        "    triples = []\n",
        "    for sent in data.get(\"sentences\", []):\n",
        "        for t in sent.get(\"openie\", []):\n",
        "            triples.append((t[\"subject\"], t[\"relation\"], t[\"object\"]))\n",
        "    return triples\n",
        "\n",
        "# Batch all your paragraphs into one request to amortize startup cost:\n",
        "batch_text = \"\\n\\n\".join(paragraphs)\n",
        "all_triples = openie_triples(batch_text)\n",
        "\n",
        "for subj, rel, obj in all_triples:\n",
        "    print((subj, rel, obj))\n"
      ],
      "metadata": {
        "colab": {
          "base_uri": "https://localhost:8080/"
        },
        "id": "5Jlryq_eWnT3",
        "outputId": "03d45f82-7f5a-4a15-b075-84d88e86387a"
      },
      "execution_count": null,
      "outputs": [
        {
          "output_type": "stream",
          "name": "stdout",
          "text": [
            "('version', 'summarizes aspirations at', 'level')\n",
            "('version', 'summarizes aspirations at', 'high level')\n",
            "('short version', 'summarizes aspirations at', 'high level')\n",
            "('version', 'summarizes aspirations at', 'level of abstraction')\n",
            "('short version', 'summarizes aspirations at', 'level')\n",
            "('short version', 'summarizes aspirations at', 'high level of abstraction')\n",
            "('version', 'summarizes aspirations at', 'high level of abstraction')\n",
            "('short version', 'summarizes aspirations at', 'level of abstraction')\n",
            "('short version', 'summarizes', 'aspirations')\n",
            "('version', 'summarizes', 'aspirations')\n"
          ]
        }
      ]
    },
    {
      "cell_type": "code",
      "source": [
        "# Check the log for “Listening” (or similar)\n",
        "!grep \"Listening for connection\" corenlp.log -A2 || tail -n 10 corenlp.log\n",
        "\n",
        "# Or see if port 9000 is open\n",
        "!netstat -tln | grep 9000\n",
        "\n"
      ],
      "metadata": {
        "colab": {
          "base_uri": "https://localhost:8080/"
        },
        "id": "vJ4bQ_6LGNfy",
        "outputId": "ed3bc105-7446-4c55-e7e5-bc1d9e1c5e4a"
      },
      "execution_count": null,
      "outputs": [
        {
          "output_type": "stream",
          "name": "stdout",
          "text": [
            "  java.base/sun.nio.ch.ServerSocketChannelImpl.bind(ServerSocketChannelImpl.java:227)\n",
            "  java.base/sun.nio.ch.ServerSocketAdaptor.bind(ServerSocketAdaptor.java:80)\n",
            "  jdk.httpserver/sun.net.httpserver.ServerImpl.<init>(ServerImpl.java:142)\n",
            "  jdk.httpserver/sun.net.httpserver.HttpServerImpl.<init>(HttpServerImpl.java:50)\n",
            "  jdk.httpserver/sun.net.httpserver.DefaultHttpServerProvider.createHttpServer(DefaultHttpServerProvider.java:35)\n",
            "  jdk.httpserver/com.sun.net.httpserver.HttpServer.create(HttpServer.java:137)\n",
            "  edu.stanford.nlp.pipeline.StanfordCoreNLPServer.run(StanfordCoreNLPServer.java:1540)\n",
            "  edu.stanford.nlp.pipeline.StanfordCoreNLPServer.launchServer(StanfordCoreNLPServer.java:1637)\n",
            "  edu.stanford.nlp.pipeline.StanfordCoreNLPServer.main(StanfordCoreNLPServer.java:1644)\n",
            "[Thread-0] INFO CoreNLP - CoreNLP Server is shutting down.\n",
            "tcp        0      0 172.28.0.12:9000        0.0.0.0:*               LISTEN     \n"
          ]
        }
      ]
    },
    {
      "cell_type": "code",
      "source": [
        "%%bash\n",
        "# Kill any Java process that looks like CoreNLPServer\n",
        "pkill -f edu.stanford.nlp.pipeline.StanfordCoreNLPServer || true\n",
        "\n",
        "# Double-check port 9000 is free\n",
        "if lsof -i:9000 -t >/dev/null; then\n",
        "  echo \"Port 9000 still in use by:\"\n",
        "  lsof -i:9000\n",
        "  exit 1\n",
        "else\n",
        "  echo \"Port 9000 is now free\"\n",
        "fi\n"
      ],
      "metadata": {
        "id": "cnAo5g3Pf3kS"
      },
      "execution_count": null,
      "outputs": []
    },
    {
      "cell_type": "code",
      "source": [
        " !head -n 50 corenlp.log\n"
      ],
      "metadata": {
        "colab": {
          "base_uri": "https://localhost:8080/"
        },
        "id": "oDugW5xdKirn",
        "outputId": "a172bd69-ba4b-4812-d4ee-b56e840e4f0b"
      },
      "execution_count": null,
      "outputs": [
        {
          "output_type": "stream",
          "name": "stdout",
          "text": [
            "[main] INFO CoreNLP - --- StanfordCoreNLPServer#main() called ---\n",
            "[main] INFO CoreNLP - Server default properties:\n",
            "\t\t\t(Note: unspecified annotator properties are English defaults)\n",
            "\t\t\tannotators = tokenize,ssplit,pos,lemma,depparse,natlog,openie\n",
            "\t\t\tinputFormat = text\n",
            "\t\t\toutputFormat = json\n",
            "\t\t\tprettyPrint = false\n",
            "\t\t\tthreads = 4\n",
            "[main] INFO CoreNLP - Threads: 4\n",
            "[main] INFO edu.stanford.nlp.pipeline.StanfordCoreNLP - Adding annotator tokenize\n",
            "[main] INFO edu.stanford.nlp.pipeline.StanfordCoreNLP - Adding annotator pos\n",
            "[main] INFO edu.stanford.nlp.tagger.maxent.MaxentTagger - Loading POS tagger from edu/stanford/nlp/models/pos-tagger/english-left3words-distsim.tagger ... done [1.2 sec].\n",
            "[main] INFO edu.stanford.nlp.pipeline.StanfordCoreNLP - Adding annotator lemma\n",
            "[main] INFO edu.stanford.nlp.pipeline.StanfordCoreNLP - Adding annotator depparse\n",
            "[main] INFO edu.stanford.nlp.parser.nndep.DependencyParser - Loading depparse model: edu/stanford/nlp/models/parser/nndep/english_UD.gz ... Time elapsed: 1.4 sec\n",
            "[main] INFO edu.stanford.nlp.parser.nndep.Classifier - PreComputed 20000 vectors, elapsed Time: 0.973 sec\n",
            "[main] INFO edu.stanford.nlp.parser.nndep.DependencyParser - Initializing dependency parser ... done [2.4 sec].\n",
            "[main] INFO edu.stanford.nlp.pipeline.StanfordCoreNLP - Adding annotator natlog\n",
            "[main] INFO edu.stanford.nlp.pipeline.StanfordCoreNLP - Adding annotator openie\n",
            "[main] INFO edu.stanford.nlp.naturalli.ClauseSplitter - Loading clause splitter from edu/stanford/nlp/models/naturalli/clauseSearcherModel.ser.gz ... done [0.118 seconds]\n",
            "[main] INFO CoreNLP - Starting server...\n",
            "[main] WARN CoreNLP - java.net.BindException: Address already in use\n",
            "  java.base/sun.nio.ch.Net.bind0(Native Method)\n",
            "  java.base/sun.nio.ch.Net.bind(Net.java:459)\n",
            "  java.base/sun.nio.ch.Net.bind(Net.java:448)\n",
            "  java.base/sun.nio.ch.ServerSocketChannelImpl.bind(ServerSocketChannelImpl.java:227)\n",
            "  java.base/sun.nio.ch.ServerSocketAdaptor.bind(ServerSocketAdaptor.java:80)\n",
            "  jdk.httpserver/sun.net.httpserver.ServerImpl.<init>(ServerImpl.java:142)\n",
            "  jdk.httpserver/sun.net.httpserver.HttpServerImpl.<init>(HttpServerImpl.java:50)\n",
            "  jdk.httpserver/sun.net.httpserver.DefaultHttpServerProvider.createHttpServer(DefaultHttpServerProvider.java:35)\n",
            "  jdk.httpserver/com.sun.net.httpserver.HttpServer.create(HttpServer.java:137)\n",
            "  edu.stanford.nlp.pipeline.StanfordCoreNLPServer.run(StanfordCoreNLPServer.java:1540)\n",
            "  edu.stanford.nlp.pipeline.StanfordCoreNLPServer.launchServer(StanfordCoreNLPServer.java:1637)\n",
            "  edu.stanford.nlp.pipeline.StanfordCoreNLPServer.main(StanfordCoreNLPServer.java:1644)\n",
            "[Thread-0] INFO CoreNLP - CoreNLP Server is shutting down.\n"
          ]
        }
      ]
    },
    {
      "cell_type": "code",
      "source": [
        "import requests\n",
        "import json\n",
        "\n",
        "# Make sure your CoreNLPServer is live on localhost:9000 (with openie in its annotators)\n",
        "def openie_triples(text: str):\n",
        "    props = {\n",
        "        \"annotators\": \"tokenize,ssplit,pos,lemma,depparse,natlog,openie\",\n",
        "        \"outputFormat\": \"json\",\n",
        "        \"timeout\": 150000\n",
        "    }\n",
        "    r = requests.post(\n",
        "        \"http://localhost:9001\",\n",
        "        params={\"properties\": json.dumps(props)},\n",
        "        data=text.encode(\"utf-8\"),\n",
        "        timeout=180\n",
        "    )\n",
        "    r.raise_for_status()\n",
        "    data = r.json()\n",
        "\n",
        "    triples = []\n",
        "    for sent in data.get(\"sentences\", []):\n",
        "        for t in sent.get(\"openie\", []):\n",
        "            triples.append((t[\"subject\"], t[\"relation\"], t[\"object\"]))\n",
        "    return triples\n",
        "\n",
        "# Batch all your paragraphs into one request to amortize startup cost:\n",
        "batch_text = \"\\n\\n\".join(paragraphs)\n",
        "all_triples = openie_triples(batch_text)\n",
        "\n",
        "for subj, rel, obj in all_triples:\n",
        "    print((subj, rel, obj))\n"
      ],
      "metadata": {
        "colab": {
          "base_uri": "https://localhost:8080/"
        },
        "id": "qTEhR4xrRfDo",
        "outputId": "47c9c1da-4640-4832-aed2-6d3607d90a87"
      },
      "execution_count": null,
      "outputs": [
        {
          "output_type": "stream",
          "name": "stdout",
          "text": [
            "('version', 'summarizes', 'aspirations')\n",
            "('we', 'act as', 'software engineering professionals')\n",
            "('version', 'summarizes aspirations at', 'level of abstraction')\n",
            "('version', 'summarizes aspirations at', 'high level of abstraction')\n",
            "('short version', 'summarizes aspirations at', 'high level of abstraction')\n",
            "('short version', 'summarizes aspirations at', 'level of abstraction')\n",
            "('short version', 'summarizes', 'aspirations')\n",
            "('short version', 'summarizes aspirations at', 'level')\n",
            "('short version', 'summarizes aspirations at', 'high level')\n",
            "('version', 'summarizes aspirations at', 'level')\n",
            "('version', 'summarizes aspirations at', 'high level')\n",
            "('details', 'form', 'code')\n",
            "('details', 'together form', 'code')\n",
            "('details', 'form', 'cohesive code')\n",
            "('details', 'can become Without', 'aspirations')\n",
            "('details', 'together form', 'cohesive code')\n",
            "('aspirations', 'form', 'code')\n",
            "('aspirations', 'together form', 'code')\n",
            "('details', 'can become', 'legalistic')\n",
            "('aspirations', 'together form', 'cohesive code')\n",
            "('aspirations', 'can become without', 'details')\n",
            "('aspirations', 'form', 'cohesive code')\n",
            "('Software engineers', 'making', 'analysis of software')\n",
            "('Software engineers', 'making', 'analysis')\n",
            "('Software engineers', 'shall commit', 'themselves')\n",
            "('Software engineers', 'shall act consistently with', 'interest')\n",
            "('Software engineers', 'shall act with', 'public interest')\n",
            "('Software engineers', 'shall act consistently with', 'public interest')\n",
            "('Software engineers', 'shall act with', 'interest')\n",
            "('Software engineers', 'shall act in', 'manner')\n",
            "('modifications', 'meet', 'standards possible')\n",
            "('modifications', 'meet', 'highest standards possible')\n",
            "('their products', 'meet', 'professional standards possible')\n",
            "('related modifications', 'meet', 'professional standards possible')\n",
            "('their products', 'meet', 'highest professional standards possible')\n",
            "('modifications', 'meet', 'professional standards possible')\n",
            "('related modifications', 'meet', 'highest professional standards possible')\n",
            "('their products', 'meet', 'highest standards possible')\n",
            "('related modifications', 'meet', 'standards possible')\n",
            "('their products', 'meet', 'standards possible')\n",
            "('modifications', 'meet', 'highest professional standards possible')\n",
            "('related modifications', 'meet', 'highest standards possible')\n",
            "('Software engineers', 'shall maintain integrity in', 'their professional judgment')\n",
            "('Software engineers', 'shall maintain integrity in', 'their judgment')\n",
            "('Software engineers', 'shall maintain', 'integrity')\n",
            "('Software engineering managers', 'shall subscribe to', 'ethical approach to management of software development')\n",
            "('leaders', 'shall subscribe to', 'approach')\n",
            "('Software engineering managers', 'shall subscribe to', 'approach')\n",
            "('leaders', 'shall subscribe to', 'ethical approach to management of software development')\n",
            "('Software engineering managers', 'shall subscribe to', 'ethical approach to management')\n",
            "('Software engineering managers', 'shall subscribe to', 'approach to management')\n",
            "('leaders', 'shall subscribe to', 'approach to management')\n",
            "('leaders', 'shall subscribe to', 'ethical approach to management')\n",
            "('Software engineering managers', 'shall subscribe to', 'ethical approach')\n",
            "('leaders', 'shall subscribe to', 'approach to management of software development')\n",
            "('Software engineering managers', 'shall subscribe to', 'approach to management of software development')\n",
            "('leaders', 'shall subscribe to', 'ethical approach')\n",
            "('Software engineers', 'shall advance', 'integrity of profession')\n",
            "('Software engineers', 'integrity of', 'profession consistent with public interest')\n",
            "('Software engineers', 'integrity of', 'profession consistent')\n",
            "('Software engineers', 'shall advance', 'integrity of profession consistent with interest')\n",
            "('Software engineers', 'integrity of', 'profession')\n",
            "('Software engineers', 'shall advance', 'integrity of profession consistent')\n",
            "('Software engineers', 'integrity of', 'profession consistent with interest')\n",
            "('Software engineers', 'shall advance', 'integrity')\n",
            "('Software engineers', 'shall advance', 'integrity of profession consistent with public interest')\n",
            "('Software engineers', 'shall', 'shall fair to of their colleagues')\n",
            "('Software engineers', 'shall', 'shall fair')\n",
            "('Software engineers', 'shall participate regarding', 'practice of their profession')\n",
            "('Software engineers', 'promote', 'ethical approach to practice')\n",
            "('Software engineers', 'shall participate regarding', 'practice')\n",
            "('Software engineers', 'promote', 'approach to practice')\n",
            "('Software engineers', 'promote', 'ethical approach')\n",
            "('Software engineers', 'promote', 'approach')\n",
            "('Software engineers', 'promote', 'approach to practice of profession')\n",
            "('Software engineers', 'shall participate in', 'lifelong learning')\n",
            "('Software engineers', 'shall participate in', 'learning')\n",
            "('Software engineers', 'promote', 'ethical approach to practice of profession')\n"
          ]
        }
      ]
    }
  ]
}